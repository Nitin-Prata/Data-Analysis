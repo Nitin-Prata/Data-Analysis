{
 "cells": [
  {
   "cell_type": "markdown",
   "id": "c06ae0c3",
   "metadata": {},
   "source": [
    "### web-scraping\n"
   ]
  },
  {
   "cell_type": "code",
   "execution_count": 1,
   "id": "abf62f5f",
   "metadata": {},
   "outputs": [],
   "source": [
    "import pandas as pd\n",
    "import requests\n",
    "from bs4 import BeautifulSoup"
   ]
  },
  {
   "cell_type": "code",
   "execution_count": 2,
   "id": "3382b1d8",
   "metadata": {},
   "outputs": [],
   "source": [
    "headers = {'User-Agent': 'Mozilla/5.0 (Windows NT 6.3; Win64; x64)AppleWebKit/537.36 (KHTML, like Gecko) Chrome/80.0.3987.162 Safari/537.36'}"
   ]
  },
  {
   "cell_type": "code",
   "execution_count": 3,
   "id": "5584cf74",
   "metadata": {},
   "outputs": [],
   "source": [
    "webpage = requests.get('https://www.ambitionbox.com/list-of-companies?page=1',headers=headers).text"
   ]
  },
  {
   "cell_type": "code",
   "execution_count": 4,
   "id": "94a8820c",
   "metadata": {},
   "outputs": [],
   "source": [
    "soup = BeautifulSoup(webpage,'lxml')"
   ]
  },
  {
   "cell_type": "code",
   "execution_count": 5,
   "id": "7c71e6a7",
   "metadata": {},
   "outputs": [],
   "source": [
    "company = soup.find_all('div',class_='companyCardWrapper')"
   ]
  },
  {
   "cell_type": "code",
   "execution_count": 6,
   "id": "b9ee1c96",
   "metadata": {},
   "outputs": [
    {
     "data": {
      "text/plain": [
       "20"
      ]
     },
     "execution_count": 6,
     "metadata": {},
     "output_type": "execute_result"
    }
   ],
   "source": [
    "len(company)"
   ]
  },
  {
   "cell_type": "code",
   "execution_count": 67,
   "id": "818b3d05",
   "metadata": {},
   "outputs": [],
   "source": [
    "name = []\n",
    "rating = []\n",
    "reviews = []\n",
    "salaries = []\n",
    "jobs = []\n",
    "for i in company:\n",
    "    name.append(i.find('h2',class_='companyCardWrapper__companyName').text.strip())\n",
    "    rating.append(i.find(class_='rating_star_container').find(class_=\"rating_text rating_text--md\").text.strip())\n",
    "    salaries.append(i.find('div',class_='companyCardWrapper__tertiaryInformation').find_all('a',class_='companyCardWrapper__ActionWrapper')[1].text)\n",
    "    reviews.append(i.find('div',class_='companyCardWrapper__tertiaryInformation').find_all('a',class_='companyCardWrapper__ActionWrapper')[0].text)\n",
    "    jobs.append(i.find('div',class_='companyCardWrapper__tertiaryInformation').find_all('a',class_='companyCardWrapper__ActionWrapper')[3].text)\n",
    "    \n",
    "d = {'name': name, 'rating': rating, 'reviews': reviews, 'salaries': salaries, 'jobs': jobs}\n",
    "\n",
    "df = pd.DataFrame(d)"
   ]
  },
  {
   "cell_type": "code",
   "execution_count": 68,
   "id": "410b6a5f",
   "metadata": {},
   "outputs": [
    {
     "data": {
      "text/html": [
       "<div>\n",
       "<style scoped>\n",
       "    .dataframe tbody tr th:only-of-type {\n",
       "        vertical-align: middle;\n",
       "    }\n",
       "\n",
       "    .dataframe tbody tr th {\n",
       "        vertical-align: top;\n",
       "    }\n",
       "\n",
       "    .dataframe thead th {\n",
       "        text-align: right;\n",
       "    }\n",
       "</style>\n",
       "<table border=\"1\" class=\"dataframe\">\n",
       "  <thead>\n",
       "    <tr style=\"text-align: right;\">\n",
       "      <th></th>\n",
       "      <th>name</th>\n",
       "      <th>rating</th>\n",
       "      <th>reviews</th>\n",
       "      <th>salaries</th>\n",
       "      <th>jobs</th>\n",
       "    </tr>\n",
       "  </thead>\n",
       "  <tbody>\n",
       "    <tr>\n",
       "      <th>0</th>\n",
       "      <td>TCS</td>\n",
       "      <td>3.5</td>\n",
       "      <td>1L Reviews</td>\n",
       "      <td>9.5L Salaries</td>\n",
       "      <td>93 Jobs</td>\n",
       "    </tr>\n",
       "    <tr>\n",
       "      <th>1</th>\n",
       "      <td>Accenture</td>\n",
       "      <td>3.7</td>\n",
       "      <td>65.6k Reviews</td>\n",
       "      <td>6.3L Salaries</td>\n",
       "      <td>29k Jobs</td>\n",
       "    </tr>\n",
       "    <tr>\n",
       "      <th>2</th>\n",
       "      <td>Wipro</td>\n",
       "      <td>3.7</td>\n",
       "      <td>59k Reviews</td>\n",
       "      <td>4.7L Salaries</td>\n",
       "      <td>5.8k Jobs</td>\n",
       "    </tr>\n",
       "    <tr>\n",
       "      <th>3</th>\n",
       "      <td>Cognizant</td>\n",
       "      <td>3.7</td>\n",
       "      <td>56.1k Reviews</td>\n",
       "      <td>6L Salaries</td>\n",
       "      <td>300 Jobs</td>\n",
       "    </tr>\n",
       "    <tr>\n",
       "      <th>4</th>\n",
       "      <td>Capgemini</td>\n",
       "      <td>3.7</td>\n",
       "      <td>47.8k Reviews</td>\n",
       "      <td>4.7L Salaries</td>\n",
       "      <td>1.7k Jobs</td>\n",
       "    </tr>\n",
       "    <tr>\n",
       "      <th>5</th>\n",
       "      <td>HDFC Bank</td>\n",
       "      <td>3.8</td>\n",
       "      <td>45.4k Reviews</td>\n",
       "      <td>1.5L Salaries</td>\n",
       "      <td>239 Jobs</td>\n",
       "    </tr>\n",
       "    <tr>\n",
       "      <th>6</th>\n",
       "      <td>Infosys</td>\n",
       "      <td>3.5</td>\n",
       "      <td>44.2k Reviews</td>\n",
       "      <td>5.1L Salaries</td>\n",
       "      <td>1.6k Jobs</td>\n",
       "    </tr>\n",
       "    <tr>\n",
       "      <th>7</th>\n",
       "      <td>ICICI Bank</td>\n",
       "      <td>4.0</td>\n",
       "      <td>43.3k Reviews</td>\n",
       "      <td>1.5L Salaries</td>\n",
       "      <td>57 Jobs</td>\n",
       "    </tr>\n",
       "    <tr>\n",
       "      <th>8</th>\n",
       "      <td>HCLTech</td>\n",
       "      <td>3.4</td>\n",
       "      <td>41.1k Reviews</td>\n",
       "      <td>3.6L Salaries</td>\n",
       "      <td>374 Jobs</td>\n",
       "    </tr>\n",
       "    <tr>\n",
       "      <th>9</th>\n",
       "      <td>Tech Mahindra</td>\n",
       "      <td>3.4</td>\n",
       "      <td>39.4k Reviews</td>\n",
       "      <td>2.8L Salaries</td>\n",
       "      <td>489 Jobs</td>\n",
       "    </tr>\n",
       "    <tr>\n",
       "      <th>10</th>\n",
       "      <td>Genpact</td>\n",
       "      <td>3.7</td>\n",
       "      <td>37.4k Reviews</td>\n",
       "      <td>2.2L Salaries</td>\n",
       "      <td>346 Jobs</td>\n",
       "    </tr>\n",
       "    <tr>\n",
       "      <th>11</th>\n",
       "      <td>Teleperformance</td>\n",
       "      <td>3.8</td>\n",
       "      <td>33.7k Reviews</td>\n",
       "      <td>93.6k Salaries</td>\n",
       "      <td>524 Jobs</td>\n",
       "    </tr>\n",
       "    <tr>\n",
       "      <th>12</th>\n",
       "      <td>Axis Bank</td>\n",
       "      <td>3.7</td>\n",
       "      <td>29.3k Reviews</td>\n",
       "      <td>1L Salaries</td>\n",
       "      <td>777 Jobs</td>\n",
       "    </tr>\n",
       "    <tr>\n",
       "      <th>13</th>\n",
       "      <td>Concentrix Corporation</td>\n",
       "      <td>3.6</td>\n",
       "      <td>29.3k Reviews</td>\n",
       "      <td>1.3L Salaries</td>\n",
       "      <td>104 Jobs</td>\n",
       "    </tr>\n",
       "    <tr>\n",
       "      <th>14</th>\n",
       "      <td>Amazon</td>\n",
       "      <td>4.0</td>\n",
       "      <td>28.2k Reviews</td>\n",
       "      <td>1.4L Salaries</td>\n",
       "      <td>2k Jobs</td>\n",
       "    </tr>\n",
       "    <tr>\n",
       "      <th>15</th>\n",
       "      <td>Jio</td>\n",
       "      <td>4.2</td>\n",
       "      <td>27.7k Reviews</td>\n",
       "      <td>61.4k Salaries</td>\n",
       "      <td>55 Jobs</td>\n",
       "    </tr>\n",
       "    <tr>\n",
       "      <th>16</th>\n",
       "      <td>iEnergizer</td>\n",
       "      <td>4.7</td>\n",
       "      <td>26k Reviews</td>\n",
       "      <td>23.4k Salaries</td>\n",
       "      <td>50 Jobs</td>\n",
       "    </tr>\n",
       "    <tr>\n",
       "      <th>17</th>\n",
       "      <td>Reliance Retail</td>\n",
       "      <td>3.9</td>\n",
       "      <td>25k Reviews</td>\n",
       "      <td>69.1k Salaries</td>\n",
       "      <td>74 Jobs</td>\n",
       "    </tr>\n",
       "    <tr>\n",
       "      <th>18</th>\n",
       "      <td>IBM</td>\n",
       "      <td>3.9</td>\n",
       "      <td>24.1k Reviews</td>\n",
       "      <td>2.1L Salaries</td>\n",
       "      <td>2.6k Jobs</td>\n",
       "    </tr>\n",
       "    <tr>\n",
       "      <th>19</th>\n",
       "      <td>LTIMindtree</td>\n",
       "      <td>3.7</td>\n",
       "      <td>23.4k Reviews</td>\n",
       "      <td>1.9L Salaries</td>\n",
       "      <td>414 Jobs</td>\n",
       "    </tr>\n",
       "  </tbody>\n",
       "</table>\n",
       "</div>"
      ],
      "text/plain": [
       "                      name rating        reviews        salaries       jobs\n",
       "0                      TCS    3.5     1L Reviews   9.5L Salaries    93 Jobs\n",
       "1                Accenture    3.7  65.6k Reviews   6.3L Salaries   29k Jobs\n",
       "2                    Wipro    3.7    59k Reviews   4.7L Salaries  5.8k Jobs\n",
       "3                Cognizant    3.7  56.1k Reviews     6L Salaries   300 Jobs\n",
       "4                Capgemini    3.7  47.8k Reviews   4.7L Salaries  1.7k Jobs\n",
       "5                HDFC Bank    3.8  45.4k Reviews   1.5L Salaries   239 Jobs\n",
       "6                  Infosys    3.5  44.2k Reviews   5.1L Salaries  1.6k Jobs\n",
       "7               ICICI Bank    4.0  43.3k Reviews   1.5L Salaries    57 Jobs\n",
       "8                  HCLTech    3.4  41.1k Reviews   3.6L Salaries   374 Jobs\n",
       "9            Tech Mahindra    3.4  39.4k Reviews   2.8L Salaries   489 Jobs\n",
       "10                 Genpact    3.7  37.4k Reviews   2.2L Salaries   346 Jobs\n",
       "11         Teleperformance    3.8  33.7k Reviews  93.6k Salaries   524 Jobs\n",
       "12               Axis Bank    3.7  29.3k Reviews     1L Salaries   777 Jobs\n",
       "13  Concentrix Corporation    3.6  29.3k Reviews   1.3L Salaries   104 Jobs\n",
       "14                  Amazon    4.0  28.2k Reviews   1.4L Salaries    2k Jobs\n",
       "15                     Jio    4.2  27.7k Reviews  61.4k Salaries    55 Jobs\n",
       "16              iEnergizer    4.7    26k Reviews  23.4k Salaries    50 Jobs\n",
       "17         Reliance Retail    3.9    25k Reviews  69.1k Salaries    74 Jobs\n",
       "18                     IBM    3.9  24.1k Reviews   2.1L Salaries  2.6k Jobs\n",
       "19             LTIMindtree    3.7  23.4k Reviews   1.9L Salaries   414 Jobs"
      ]
     },
     "execution_count": 68,
     "metadata": {},
     "output_type": "execute_result"
    }
   ],
   "source": [
    "df"
   ]
  },
  {
   "cell_type": "code",
   "execution_count": null,
   "id": "a5d51025",
   "metadata": {},
   "outputs": [
    {
     "data": {
      "text/plain": [
       "(20, 5)"
      ]
     },
     "execution_count": 69,
     "metadata": {},
     "output_type": "execute_result"
    }
   ],
   "source": [
    "df.shape"
   ]
  },
  {
   "cell_type": "code",
   "execution_count": 78,
   "id": "d2affce5",
   "metadata": {},
   "outputs": [],
   "source": [
    "final = pd.DataFrame()\n",
    "for j in range(1,11):\n",
    "    url = 'https://www.ambitionbox.com/list-of-companies?page={}'.format(j)\n",
    "    headers = {'User-Agent': 'Mozilla/5.0 (Windows NT 6.3; Win64; x64)AppleWebKit/537.36 (KHTML, like Gecko) Chrome/80.0.3987.162 Safari/537.36'}\n",
    "    webpage = requests.get(url,headers=headers).text\n",
    "    \n",
    "    soup = BeautifulSoup(webpage,'lxml')\n",
    "    company = soup.find_all('div',class_='companyCardWrapper')\n",
    "\n",
    "    name = []\n",
    "    rating = []\n",
    "    reviews = []\n",
    "    salaries = []\n",
    "    jobs = []\n",
    "    for i in company:\n",
    "        name.append(i.find('h2',class_='companyCardWrapper__companyName').text.strip())\n",
    "        rating.append(i.find(class_='rating_star_container').find(class_=\"rating_text rating_text--md\").text.strip())\n",
    "        salaries.append(i.find('div',class_='companyCardWrapper__tertiaryInformation').find_all('a',class_='companyCardWrapper__ActionWrapper')[1].text)\n",
    "        reviews.append(i.find('div',class_='companyCardWrapper__tertiaryInformation').find_all('a',class_='companyCardWrapper__ActionWrapper')[0].text)\n",
    "        jobs.append(i.find('div',class_='companyCardWrapper__tertiaryInformation').find_all('a',class_='companyCardWrapper__ActionWrapper')[3].text)\n",
    "        \n",
    "    d = {'name': name, 'rating': rating, 'reviews': reviews, 'salaries': salaries, 'jobs': jobs}\n",
    "\n",
    "    df = pd.DataFrame(d)\n",
    "    final = pd.concat([final, df],ignore_index=True)"
   ]
  },
  {
   "cell_type": "code",
   "execution_count": 79,
   "id": "41852909",
   "metadata": {},
   "outputs": [
    {
     "data": {
      "text/plain": [
       "(200, 5)"
      ]
     },
     "execution_count": 79,
     "metadata": {},
     "output_type": "execute_result"
    }
   ],
   "source": [
    "final.shape"
   ]
  }
 ],
 "metadata": {
  "kernelspec": {
   "display_name": "Python 3",
   "language": "python",
   "name": "python3"
  },
  "language_info": {
   "codemirror_mode": {
    "name": "ipython",
    "version": 3
   },
   "file_extension": ".py",
   "mimetype": "text/x-python",
   "name": "python",
   "nbconvert_exporter": "python",
   "pygments_lexer": "ipython3",
   "version": "3.9.9"
  }
 },
 "nbformat": 4,
 "nbformat_minor": 5
}
