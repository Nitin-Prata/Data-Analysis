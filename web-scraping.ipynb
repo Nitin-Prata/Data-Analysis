{
 "cells": [
  {
   "cell_type": "markdown",
   "id": "c06ae0c3",
   "metadata": {},
   "source": [
    "### web-scraping\n"
   ]
  },
  {
   "cell_type": "code",
   "execution_count": 53,
   "id": "abf62f5f",
   "metadata": {},
   "outputs": [],
   "source": [
    "import pandas as pd\n",
    "import requests\n",
    "from bs4 import BeautifulSoup"
   ]
  },
  {
   "cell_type": "code",
   "execution_count": 54,
   "id": "3382b1d8",
   "metadata": {},
   "outputs": [],
   "source": [
    "headers = {'User-Agent': 'Mozilla/5.0 (Windows NT 6.3; Win64; x64)AppleWebKit/537.36 (KHTML, like Gecko) Chrome/80.0.3987.162 Safari/537.36'}"
   ]
  },
  {
   "cell_type": "code",
   "execution_count": 55,
   "id": "5584cf74",
   "metadata": {},
   "outputs": [],
   "source": [
    "webpage = requests.get('https://www.ambitionbox.com/list-of-companies?page=1',headers=headers).text"
   ]
  },
  {
   "cell_type": "code",
   "execution_count": 56,
   "id": "94a8820c",
   "metadata": {},
   "outputs": [],
   "source": [
    "soup = BeautifulSoup(webpage,'lxml')"
   ]
  },
  {
   "cell_type": "code",
   "execution_count": 57,
   "id": "7c71e6a7",
   "metadata": {},
   "outputs": [],
   "source": [
    "company = soup.find_all('div',class_='companyCardWrapper')"
   ]
  },
  {
   "cell_type": "code",
   "execution_count": 59,
   "id": "b9ee1c96",
   "metadata": {},
   "outputs": [
    {
     "data": {
      "text/plain": [
       "20"
      ]
     },
     "execution_count": 59,
     "metadata": {},
     "output_type": "execute_result"
    }
   ],
   "source": [
    "len(company)"
   ]
  },
  {
   "cell_type": "code",
   "execution_count": null,
   "id": "818b3d05",
   "metadata": {},
   "outputs": [],
   "source": [
    "name = []\n",
    "rating = []\n",
    "reviews = []\n",
    "for i in company:\n",
    "    name.append(i.find('h2',class_='companyCardWrapper__companyName').text.strip())\n",
    "    rating.append(i.find(class_='rating_star_container').find(class_=\"rating_text rating_text--md\").text.strip())\n",
    "    count = i.find('span',class_='companyCardWrapper__ActionCount').text.strip()\n",
    "    title =i.find('span',class_='companyCardWrapper__ActionTitle').text.strip()\n",
    "    reviews.append(count + \" \" + title)\n",
    "    print(i.find())\n",
    "    \n"
   ]
  },
  {
   "cell_type": "code",
   "execution_count": 95,
   "id": "ab0be54a",
   "metadata": {},
   "outputs": [
    {
     "data": {
      "text/plain": [
       "['1L Reviews',\n",
       " '65.6k Reviews',\n",
       " '59k Reviews',\n",
       " '56.1k Reviews',\n",
       " '47.8k Reviews',\n",
       " '45.3k Reviews',\n",
       " '44.2k Reviews',\n",
       " '43.3k Reviews',\n",
       " '41k Reviews',\n",
       " '39.4k Reviews',\n",
       " '37.4k Reviews',\n",
       " '33.7k Reviews',\n",
       " '29.3k Reviews',\n",
       " '29.3k Reviews',\n",
       " '28.2k Reviews',\n",
       " '27.7k Reviews',\n",
       " '25.9k Reviews',\n",
       " '25k Reviews',\n",
       " '24k Reviews',\n",
       " '23.4k Reviews']"
      ]
     },
     "execution_count": 95,
     "metadata": {},
     "output_type": "execute_result"
    }
   ],
   "source": [
    "name\n",
    "rating\n",
    "reviews"
   ]
  },
  {
   "cell_type": "code",
   "execution_count": 97,
   "id": "033b4ab9",
   "metadata": {},
   "outputs": [
    {
     "data": {
      "text/plain": [
       "<div class=\"companyCardWrapper\" itemprop=\"itemListElement\" itemscope=\"itemscope\" itemtype=\"http://schema.org/ListItem\"><meta content=\"1\" itemprop=\"position\"/> <meta content=\"TCS\" itemprop=\"name\"/> <meta content=\"Tata Consultancy Services\" itemprop=\"alternateName\"/> <meta content=\"https://www.ambitionbox.com/overview/tcs-overview\" itemprop=\"url\"/> <meta content=\"https://static.ambitionbox.com/alpha/company/photos/logos/tcs.jpg\" itemprop=\"image\"/> <div class=\"companyCardWrapper__primaryInformation\"><div class=\"companyCardWrapper__companyLogo\"><img alt=\"Tata Consultancy Services logo\" height=\"50\" loading=\"lazy\" onerror=\"this.onerror=null;this.src='/static/icons/company-placeholder.svg';\" src=\"https://static.ambitionbox.com/assets/v2/images/rs:fit:200:200:false:false/aHR0cHM6Ly9tZWRpYS5uYXVrcmkuY29tL21lZGlhL2FiY29tcGxvZ28vdGNzLW9yaWdpbmFsLmpwZw.webp\" width=\"50\"/></div> <div class=\"companyCardWrapper__metaInformation\"><div class=\"companyCardWrapper__header\"><div class=\"companyCardWrapper__companyPrimaryDetailsTopSection\"><a class=\"companyCardWrapper__companyName\"><h2 class=\"companyCardWrapper__companyName\" title=\"TCS\">\n",
       "\t\t\t\t\t\t\t\tTCS\n",
       "\t\t\t\t\t\t\t</h2></a> <span class=\"companyCardWrapper__companyVerified\"><img alt=\"verified logo\" height=\"16px\" src=\"https://static.ambitionbox.com/static/icons/verified_blue_tick.svg\" width=\"16px\"/></span></div> <button arialabel=\"Follow\" class=\"companyCardWrapper__FollowCTA g-btn g-btn--text g-btn--md\" title=\"Follow\" type=\"button\"><!-- --> <span class=\"g-btn__label g-btn__label--md g-btn__label--text g-btn__label--loader\">Follow</span> <!-- --></button> <!-- --></div> <div class=\"companyCardWrapper__ratingWrapper\"><div class=\"companyCardWrapper__companyRatingWrapper\"><div class=\"companyCardWrapper__companyRating\"><div class=\"rating_star_container\"><svg fill=\"none\" height=\"20\" viewbox=\"0 0 20 20\" width=\"20\" xmlns=\"http://www.w3.org/2000/svg\"><rect fill=\"#9acd32\" height=\"20\" rx=\"4\" width=\"20\"></rect> <path d=\"M6.295 16L7.27 11.5632L4 8.57895L8.32 8.18421L10 4L11.68 8.18421L16 8.57895L12.73 11.5632L13.705 16L10 13.6474L6.295 16Z\" fill=\"white\"></path></svg> <div class=\"rating_text rating_text--md\"><div style=\"height:auto;padding-bottom:1px;\">\n",
       "\t\t\t3.5<!-- --></div></div></div></div> <span class=\"companyCardWrapper__companyRatingCount\">\n",
       "\t\t\t\t\t\t\t\t\t(1L)\n",
       "\t\t\t\t\t\t\t\t</span></div> <span class=\"companyCardWrapper__interLinking\">\n",
       "\t\t\t\t\t\t\t\tIT Services &amp; Consulting | Bangalore / Bengaluru +413 other locations\n",
       "\t\t\t\t\t\t\t</span> <!-- --> <div class=\"companyCardWrapper__ratingComparisonWrapper\"><div><div class=\"companyCardWrapper__ratingHeader\"><img alt=\"thumbsup logo\" height=\"14px\" src=\"https://static.ambitionbox.com/static/companyListing/ThumbsUp.svg\" width=\"14px\"/> <span class=\"companyCardWrapper__ratingHeader--high\">Highly Rated For</span></div> <span class=\"companyCardWrapper__ratingValues\">Job Security</span></div> <div><div class=\"companyCardWrapper__ratingHeader\"><img alt=\"thumbsdown logo\" height=\"14px\" src=\"https://static.ambitionbox.com/static/companyListing/ThumbsDown.svg\" width=\"14px\"/> <span class=\"companyCardWrapper__ratingHeader--critical\">Critically Rated For</span></div> <span class=\"companyCardWrapper__ratingValues\">Promotions / Appraisal, Salary &amp; Benefits, Work Satisfaction</span></div></div></div> <div class=\"viewSalaryInsights\"><div class=\"salaryInsightsText\">To view salary insights</div> <div class=\"designationSelectionText\">\n",
       "\t\t\t\t\t\t\tSelect designation\n",
       "\t\t\t\t\t\t</div></div> <!-- --></div></div> <div class=\"companyCardWrapper__tertiaryInformation\"><a class=\"companyCardWrapper__ActionWrapper\" href=\"https://www.ambitionbox.com/reviews/tcs-reviews\" target=\"_blank\"><span class=\"companyCardWrapper__ActionCount\">1L</span> <span class=\"companyCardWrapper__ActionTitle\">Reviews</span></a><a class=\"companyCardWrapper__ActionWrapper\" href=\"https://www.ambitionbox.com/salaries/tcs-salaries\" target=\"_blank\"><span class=\"companyCardWrapper__ActionCount\">9.5L</span> <span class=\"companyCardWrapper__ActionTitle\">Salaries</span></a><a class=\"companyCardWrapper__ActionWrapper\" href=\"https://www.ambitionbox.com/interviews/tcs-interview-questions\" target=\"_blank\"><span class=\"companyCardWrapper__ActionCount\">11.3k</span> <span class=\"companyCardWrapper__ActionTitle\">Interviews</span></a><a class=\"companyCardWrapper__ActionWrapper\" href=\"https://www.ambitionbox.com/jobs/tcs-jobs-cmp\" target=\"_blank\"><span class=\"companyCardWrapper__ActionCount\">86</span> <span class=\"companyCardWrapper__ActionTitle\">Jobs</span></a><a class=\"companyCardWrapper__ActionWrapper\" href=\"https://www.ambitionbox.com/benefits/tcs-benefits\" target=\"_blank\"><span class=\"companyCardWrapper__ActionCount\">10.6k</span> <span class=\"companyCardWrapper__ActionTitle\">Benefits</span></a><a class=\"companyCardWrapper__ActionWrapper\" href=\"https://www.ambitionbox.com/photos/tcs-photos\" target=\"_blank\"><span class=\"companyCardWrapper__ActionCount\">86</span> <span class=\"companyCardWrapper__ActionTitle\">Photos</span></a></div></div>"
      ]
     },
     "execution_count": 97,
     "metadata": {},
     "output_type": "execute_result"
    }
   ],
   "source": [
    "company[0]"
   ]
  }
 ],
 "metadata": {
  "kernelspec": {
   "display_name": "Python 3",
   "language": "python",
   "name": "python3"
  },
  "language_info": {
   "codemirror_mode": {
    "name": "ipython",
    "version": 3
   },
   "file_extension": ".py",
   "mimetype": "text/x-python",
   "name": "python",
   "nbconvert_exporter": "python",
   "pygments_lexer": "ipython3",
   "version": "3.9.9"
  }
 },
 "nbformat": 4,
 "nbformat_minor": 5
}
